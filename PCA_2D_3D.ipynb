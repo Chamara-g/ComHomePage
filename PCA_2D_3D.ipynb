{
  "nbformat": 4,
  "nbformat_minor": 0,
  "metadata": {
    "colab": {
      "name": "PCA_2D_3D.ipynb",
      "provenance": [],
      "machine_shape": "hm",
      "include_colab_link": true
    },
    "kernelspec": {
      "name": "python3",
      "display_name": "Python 3"
    }
  },
  "cells": [
    {
      "cell_type": "markdown",
      "metadata": {
        "id": "view-in-github",
        "colab_type": "text"
      },
      "source": [
        "<a href=\"https://colab.research.google.com/github/Chamara-g/ComHomePage/blob/master/PCA_2D_3D.ipynb\" target=\"_parent\"><img src=\"https://colab.research.google.com/assets/colab-badge.svg\" alt=\"Open In Colab\"/></a>"
      ]
    },
    {
      "cell_type": "code",
      "metadata": {
        "id": "91DVo1w9tmAG",
        "colab_type": "code",
        "outputId": "018e0af8-7490-4d1a-e268-ae0f90fe10d3",
        "colab": {
          "base_uri": "https://localhost:8080/",
          "height": 34
        }
      },
      "source": [
        "from google.colab import drive\n",
        "drive.mount('/content/drive')"
      ],
      "execution_count": 3,
      "outputs": [
        {
          "output_type": "stream",
          "text": [
            "Mounted at /content/drive\n"
          ],
          "name": "stdout"
        }
      ]
    },
    {
      "cell_type": "code",
      "metadata": {
        "id": "TW9LJADyRagH",
        "colab_type": "code",
        "colab": {}
      },
      "source": [
        "pip install plotly==3.10.0"
      ],
      "execution_count": 0,
      "outputs": []
    },
    {
      "cell_type": "code",
      "metadata": {
        "id": "YmtF7F_PuoTP",
        "colab_type": "code",
        "outputId": "89bef40d-9a03-44e9-b79b-f7d60ddff0b2",
        "colab": {
          "base_uri": "https://localhost:8080/",
          "height": 462
        }
      },
      "source": [
        "import pandas as pd\n",
        "\n",
        "df = pd.read_pickle(\"drive/My Drive/FYP/dataset/GSE5281/gse5281_norm.plk\")\n",
        "df.head()"
      ],
      "execution_count": 4,
      "outputs": [
        {
          "output_type": "execute_result",
          "data": {
            "text/html": [
              "<div>\n",
              "<style scoped>\n",
              "    .dataframe tbody tr th:only-of-type {\n",
              "        vertical-align: middle;\n",
              "    }\n",
              "\n",
              "    .dataframe tbody tr th {\n",
              "        vertical-align: top;\n",
              "    }\n",
              "\n",
              "    .dataframe thead th {\n",
              "        text-align: right;\n",
              "    }\n",
              "</style>\n",
              "<table border=\"1\" class=\"dataframe\">\n",
              "  <thead>\n",
              "    <tr style=\"text-align: right;\">\n",
              "      <th></th>\n",
              "      <th>1007_s_at</th>\n",
              "      <th>1053_at</th>\n",
              "      <th>117_at</th>\n",
              "      <th>121_at</th>\n",
              "      <th>1255_g_at</th>\n",
              "      <th>1294_at</th>\n",
              "      <th>1316_at</th>\n",
              "      <th>1320_at</th>\n",
              "      <th>1405_i_at</th>\n",
              "      <th>1431_at</th>\n",
              "      <th>1438_at</th>\n",
              "      <th>1487_at</th>\n",
              "      <th>1494_f_at</th>\n",
              "      <th>1552256_a_at</th>\n",
              "      <th>1552257_a_at</th>\n",
              "      <th>1552258_at</th>\n",
              "      <th>1552261_at</th>\n",
              "      <th>1552263_at</th>\n",
              "      <th>1552264_a_at</th>\n",
              "      <th>1552266_at</th>\n",
              "      <th>1552269_at</th>\n",
              "      <th>1552271_at</th>\n",
              "      <th>1552272_a_at</th>\n",
              "      <th>1552274_at</th>\n",
              "      <th>1552275_s_at</th>\n",
              "      <th>1552276_a_at</th>\n",
              "      <th>1552277_a_at</th>\n",
              "      <th>1552278_a_at</th>\n",
              "      <th>1552279_a_at</th>\n",
              "      <th>1552280_at</th>\n",
              "      <th>1552281_at</th>\n",
              "      <th>1552283_s_at</th>\n",
              "      <th>1552286_at</th>\n",
              "      <th>1552287_s_at</th>\n",
              "      <th>1552288_at</th>\n",
              "      <th>1552289_a_at</th>\n",
              "      <th>1552291_at</th>\n",
              "      <th>1552293_at</th>\n",
              "      <th>1552295_a_at</th>\n",
              "      <th>1552296_at</th>\n",
              "      <th>...</th>\n",
              "      <th>AFFX-HUMRGE/M10098_3_at</th>\n",
              "      <th>AFFX-HUMRGE/M10098_5_at</th>\n",
              "      <th>AFFX-HUMRGE/M10098_M_at</th>\n",
              "      <th>AFFX-LysX-3_at</th>\n",
              "      <th>AFFX-LysX-5_at</th>\n",
              "      <th>AFFX-LysX-M_at</th>\n",
              "      <th>AFFX-M27830_3_at</th>\n",
              "      <th>AFFX-M27830_5_at</th>\n",
              "      <th>AFFX-M27830_M_at</th>\n",
              "      <th>AFFX-PheX-3_at</th>\n",
              "      <th>AFFX-PheX-5_at</th>\n",
              "      <th>AFFX-PheX-M_at</th>\n",
              "      <th>AFFX-r2-Bs-dap-3_at</th>\n",
              "      <th>AFFX-r2-Bs-dap-5_at</th>\n",
              "      <th>AFFX-r2-Bs-dap-M_at</th>\n",
              "      <th>AFFX-r2-Bs-lys-3_at</th>\n",
              "      <th>AFFX-r2-Bs-lys-5_at</th>\n",
              "      <th>AFFX-r2-Bs-lys-M_at</th>\n",
              "      <th>AFFX-r2-Bs-phe-3_at</th>\n",
              "      <th>AFFX-r2-Bs-phe-5_at</th>\n",
              "      <th>AFFX-r2-Bs-phe-M_at</th>\n",
              "      <th>AFFX-r2-Bs-thr-3_s_at</th>\n",
              "      <th>AFFX-r2-Bs-thr-5_s_at</th>\n",
              "      <th>AFFX-r2-Bs-thr-M_s_at</th>\n",
              "      <th>AFFX-r2-Ec-bioB-3_at</th>\n",
              "      <th>AFFX-r2-Ec-bioB-5_at</th>\n",
              "      <th>AFFX-r2-Ec-bioB-M_at</th>\n",
              "      <th>AFFX-r2-Ec-bioC-3_at</th>\n",
              "      <th>AFFX-r2-Ec-bioC-5_at</th>\n",
              "      <th>AFFX-r2-Ec-bioD-3_at</th>\n",
              "      <th>AFFX-r2-Ec-bioD-5_at</th>\n",
              "      <th>AFFX-r2-P1-cre-3_at</th>\n",
              "      <th>AFFX-r2-P1-cre-5_at</th>\n",
              "      <th>AFFX-ThrX-3_at</th>\n",
              "      <th>AFFX-ThrX-5_at</th>\n",
              "      <th>AFFX-ThrX-M_at</th>\n",
              "      <th>AFFX-TrpnX-3_at</th>\n",
              "      <th>AFFX-TrpnX-5_at</th>\n",
              "      <th>AFFX-TrpnX-M_at</th>\n",
              "      <th>class</th>\n",
              "    </tr>\n",
              "  </thead>\n",
              "  <tbody>\n",
              "    <tr>\n",
              "      <th>GSM119615</th>\n",
              "      <td>0.192066</td>\n",
              "      <td>0.035711</td>\n",
              "      <td>0.061625</td>\n",
              "      <td>0.170116</td>\n",
              "      <td>0.078732</td>\n",
              "      <td>0.170804</td>\n",
              "      <td>0.070598</td>\n",
              "      <td>0.070331</td>\n",
              "      <td>0.059378</td>\n",
              "      <td>0.149794</td>\n",
              "      <td>0.048762</td>\n",
              "      <td>0.165953</td>\n",
              "      <td>0.292191</td>\n",
              "      <td>0.212183</td>\n",
              "      <td>0.139367</td>\n",
              "      <td>0.200351</td>\n",
              "      <td>0.084936</td>\n",
              "      <td>0.039528</td>\n",
              "      <td>0.141414</td>\n",
              "      <td>0.221325</td>\n",
              "      <td>0.006121</td>\n",
              "      <td>0.066994</td>\n",
              "      <td>0.154343</td>\n",
              "      <td>0.218468</td>\n",
              "      <td>0.192167</td>\n",
              "      <td>0.050202</td>\n",
              "      <td>0.158940</td>\n",
              "      <td>0.149958</td>\n",
              "      <td>0.264006</td>\n",
              "      <td>0.103812</td>\n",
              "      <td>0.052749</td>\n",
              "      <td>0.194243</td>\n",
              "      <td>0.199124</td>\n",
              "      <td>0.453908</td>\n",
              "      <td>0.131477</td>\n",
              "      <td>0.264622</td>\n",
              "      <td>0.111986</td>\n",
              "      <td>0.012342</td>\n",
              "      <td>0.190684</td>\n",
              "      <td>0.258957</td>\n",
              "      <td>...</td>\n",
              "      <td>0.090851</td>\n",
              "      <td>0.064839</td>\n",
              "      <td>0.034150</td>\n",
              "      <td>0.027478</td>\n",
              "      <td>0.021226</td>\n",
              "      <td>0.033049</td>\n",
              "      <td>0.046026</td>\n",
              "      <td>0.035800</td>\n",
              "      <td>0.106596</td>\n",
              "      <td>0.018223</td>\n",
              "      <td>0.014616</td>\n",
              "      <td>0.015142</td>\n",
              "      <td>0.067261</td>\n",
              "      <td>0.009800</td>\n",
              "      <td>0.029911</td>\n",
              "      <td>0.036936</td>\n",
              "      <td>0.016418</td>\n",
              "      <td>0.029160</td>\n",
              "      <td>0.023175</td>\n",
              "      <td>0.015080</td>\n",
              "      <td>0.015908</td>\n",
              "      <td>0.031338</td>\n",
              "      <td>0.022868</td>\n",
              "      <td>0.018715</td>\n",
              "      <td>0.016263</td>\n",
              "      <td>0.026592</td>\n",
              "      <td>0.012532</td>\n",
              "      <td>0.003286</td>\n",
              "      <td>0.005753</td>\n",
              "      <td>0.003083</td>\n",
              "      <td>0.004239</td>\n",
              "      <td>0.004786</td>\n",
              "      <td>0.002532</td>\n",
              "      <td>0.028735</td>\n",
              "      <td>0.017846</td>\n",
              "      <td>0.016189</td>\n",
              "      <td>0.040901</td>\n",
              "      <td>0.029207</td>\n",
              "      <td>0.062306</td>\n",
              "      <td>Disease State: normal</td>\n",
              "    </tr>\n",
              "    <tr>\n",
              "      <th>GSM119616</th>\n",
              "      <td>0.227039</td>\n",
              "      <td>0.079360</td>\n",
              "      <td>0.090087</td>\n",
              "      <td>0.302222</td>\n",
              "      <td>0.171081</td>\n",
              "      <td>0.260997</td>\n",
              "      <td>0.195920</td>\n",
              "      <td>0.019980</td>\n",
              "      <td>0.161671</td>\n",
              "      <td>0.286513</td>\n",
              "      <td>0.244908</td>\n",
              "      <td>0.399101</td>\n",
              "      <td>0.315745</td>\n",
              "      <td>0.453290</td>\n",
              "      <td>0.188811</td>\n",
              "      <td>0.137887</td>\n",
              "      <td>0.006215</td>\n",
              "      <td>0.280962</td>\n",
              "      <td>0.179898</td>\n",
              "      <td>0.139246</td>\n",
              "      <td>0.007657</td>\n",
              "      <td>0.025022</td>\n",
              "      <td>0.256233</td>\n",
              "      <td>0.380263</td>\n",
              "      <td>0.250707</td>\n",
              "      <td>0.172143</td>\n",
              "      <td>0.313611</td>\n",
              "      <td>0.206478</td>\n",
              "      <td>0.431882</td>\n",
              "      <td>0.044231</td>\n",
              "      <td>0.067339</td>\n",
              "      <td>0.281150</td>\n",
              "      <td>0.196325</td>\n",
              "      <td>0.192739</td>\n",
              "      <td>0.007099</td>\n",
              "      <td>0.314979</td>\n",
              "      <td>0.176240</td>\n",
              "      <td>0.107824</td>\n",
              "      <td>0.430220</td>\n",
              "      <td>0.007463</td>\n",
              "      <td>...</td>\n",
              "      <td>0.086554</td>\n",
              "      <td>0.052936</td>\n",
              "      <td>0.097322</td>\n",
              "      <td>0.000479</td>\n",
              "      <td>0.006236</td>\n",
              "      <td>0.000248</td>\n",
              "      <td>0.033619</td>\n",
              "      <td>0.057374</td>\n",
              "      <td>0.149991</td>\n",
              "      <td>0.000183</td>\n",
              "      <td>0.001236</td>\n",
              "      <td>0.000043</td>\n",
              "      <td>0.000000</td>\n",
              "      <td>0.000292</td>\n",
              "      <td>0.000011</td>\n",
              "      <td>0.000763</td>\n",
              "      <td>0.000470</td>\n",
              "      <td>0.000035</td>\n",
              "      <td>0.000117</td>\n",
              "      <td>0.000037</td>\n",
              "      <td>0.001178</td>\n",
              "      <td>0.000086</td>\n",
              "      <td>0.005222</td>\n",
              "      <td>0.000020</td>\n",
              "      <td>0.007974</td>\n",
              "      <td>0.000990</td>\n",
              "      <td>0.000000</td>\n",
              "      <td>0.001544</td>\n",
              "      <td>0.001635</td>\n",
              "      <td>0.010498</td>\n",
              "      <td>0.006378</td>\n",
              "      <td>0.016213</td>\n",
              "      <td>0.015200</td>\n",
              "      <td>0.000311</td>\n",
              "      <td>0.001744</td>\n",
              "      <td>0.000117</td>\n",
              "      <td>0.005659</td>\n",
              "      <td>0.016431</td>\n",
              "      <td>0.023065</td>\n",
              "      <td>Disease State: normal</td>\n",
              "    </tr>\n",
              "    <tr>\n",
              "      <th>GSM119617</th>\n",
              "      <td>0.509945</td>\n",
              "      <td>0.051228</td>\n",
              "      <td>0.552980</td>\n",
              "      <td>0.583963</td>\n",
              "      <td>0.152927</td>\n",
              "      <td>0.197303</td>\n",
              "      <td>0.406134</td>\n",
              "      <td>0.050031</td>\n",
              "      <td>0.714266</td>\n",
              "      <td>0.063939</td>\n",
              "      <td>0.350538</td>\n",
              "      <td>0.727023</td>\n",
              "      <td>0.685616</td>\n",
              "      <td>0.507819</td>\n",
              "      <td>0.246226</td>\n",
              "      <td>0.334772</td>\n",
              "      <td>0.332975</td>\n",
              "      <td>0.411283</td>\n",
              "      <td>0.326911</td>\n",
              "      <td>0.129819</td>\n",
              "      <td>0.035339</td>\n",
              "      <td>0.262155</td>\n",
              "      <td>0.605587</td>\n",
              "      <td>0.719809</td>\n",
              "      <td>0.401776</td>\n",
              "      <td>0.721816</td>\n",
              "      <td>0.515757</td>\n",
              "      <td>0.685834</td>\n",
              "      <td>0.505396</td>\n",
              "      <td>0.832320</td>\n",
              "      <td>0.723734</td>\n",
              "      <td>0.226984</td>\n",
              "      <td>0.145171</td>\n",
              "      <td>0.080312</td>\n",
              "      <td>0.627356</td>\n",
              "      <td>0.750255</td>\n",
              "      <td>0.007917</td>\n",
              "      <td>0.094614</td>\n",
              "      <td>0.416816</td>\n",
              "      <td>0.047080</td>\n",
              "      <td>...</td>\n",
              "      <td>0.263616</td>\n",
              "      <td>0.131011</td>\n",
              "      <td>0.226002</td>\n",
              "      <td>0.001002</td>\n",
              "      <td>0.011768</td>\n",
              "      <td>0.002044</td>\n",
              "      <td>0.115225</td>\n",
              "      <td>0.330380</td>\n",
              "      <td>0.794644</td>\n",
              "      <td>0.001469</td>\n",
              "      <td>0.004588</td>\n",
              "      <td>0.000082</td>\n",
              "      <td>0.000745</td>\n",
              "      <td>0.000431</td>\n",
              "      <td>0.000843</td>\n",
              "      <td>0.002152</td>\n",
              "      <td>0.003952</td>\n",
              "      <td>0.002380</td>\n",
              "      <td>0.001502</td>\n",
              "      <td>0.008443</td>\n",
              "      <td>0.000338</td>\n",
              "      <td>0.000615</td>\n",
              "      <td>0.019820</td>\n",
              "      <td>0.000798</td>\n",
              "      <td>0.039702</td>\n",
              "      <td>0.027286</td>\n",
              "      <td>0.009235</td>\n",
              "      <td>0.025822</td>\n",
              "      <td>0.023518</td>\n",
              "      <td>0.043663</td>\n",
              "      <td>0.032197</td>\n",
              "      <td>0.069888</td>\n",
              "      <td>0.064511</td>\n",
              "      <td>0.000549</td>\n",
              "      <td>0.011548</td>\n",
              "      <td>0.000282</td>\n",
              "      <td>0.037763</td>\n",
              "      <td>0.156628</td>\n",
              "      <td>0.612593</td>\n",
              "      <td>Disease State: normal</td>\n",
              "    </tr>\n",
              "    <tr>\n",
              "      <th>GSM119618</th>\n",
              "      <td>0.493082</td>\n",
              "      <td>0.058702</td>\n",
              "      <td>0.557494</td>\n",
              "      <td>0.537546</td>\n",
              "      <td>0.022275</td>\n",
              "      <td>0.550088</td>\n",
              "      <td>0.464479</td>\n",
              "      <td>0.017331</td>\n",
              "      <td>0.281511</td>\n",
              "      <td>0.036513</td>\n",
              "      <td>0.901656</td>\n",
              "      <td>0.465483</td>\n",
              "      <td>0.620445</td>\n",
              "      <td>0.406829</td>\n",
              "      <td>0.191919</td>\n",
              "      <td>0.478732</td>\n",
              "      <td>0.249770</td>\n",
              "      <td>0.629261</td>\n",
              "      <td>0.198767</td>\n",
              "      <td>0.388932</td>\n",
              "      <td>0.021385</td>\n",
              "      <td>0.214217</td>\n",
              "      <td>0.728380</td>\n",
              "      <td>0.487136</td>\n",
              "      <td>0.346891</td>\n",
              "      <td>0.192309</td>\n",
              "      <td>0.429598</td>\n",
              "      <td>0.113681</td>\n",
              "      <td>0.654005</td>\n",
              "      <td>0.211291</td>\n",
              "      <td>0.098378</td>\n",
              "      <td>0.284833</td>\n",
              "      <td>0.124208</td>\n",
              "      <td>0.111236</td>\n",
              "      <td>0.106787</td>\n",
              "      <td>0.238370</td>\n",
              "      <td>0.038302</td>\n",
              "      <td>0.157533</td>\n",
              "      <td>0.363600</td>\n",
              "      <td>0.003947</td>\n",
              "      <td>...</td>\n",
              "      <td>0.241698</td>\n",
              "      <td>0.126296</td>\n",
              "      <td>0.211368</td>\n",
              "      <td>0.001125</td>\n",
              "      <td>0.008192</td>\n",
              "      <td>0.000572</td>\n",
              "      <td>0.047690</td>\n",
              "      <td>0.299063</td>\n",
              "      <td>0.725382</td>\n",
              "      <td>0.001442</td>\n",
              "      <td>0.000475</td>\n",
              "      <td>0.000401</td>\n",
              "      <td>0.000048</td>\n",
              "      <td>0.000322</td>\n",
              "      <td>0.000025</td>\n",
              "      <td>0.000106</td>\n",
              "      <td>0.006361</td>\n",
              "      <td>0.001389</td>\n",
              "      <td>0.001026</td>\n",
              "      <td>0.004997</td>\n",
              "      <td>0.000192</td>\n",
              "      <td>0.000140</td>\n",
              "      <td>0.000239</td>\n",
              "      <td>0.004804</td>\n",
              "      <td>0.079268</td>\n",
              "      <td>0.034657</td>\n",
              "      <td>0.017872</td>\n",
              "      <td>0.029059</td>\n",
              "      <td>0.032560</td>\n",
              "      <td>0.062565</td>\n",
              "      <td>0.042386</td>\n",
              "      <td>0.066056</td>\n",
              "      <td>0.064410</td>\n",
              "      <td>0.000061</td>\n",
              "      <td>0.002232</td>\n",
              "      <td>0.000960</td>\n",
              "      <td>0.026872</td>\n",
              "      <td>0.407838</td>\n",
              "      <td>0.086172</td>\n",
              "      <td>Disease State: normal</td>\n",
              "    </tr>\n",
              "    <tr>\n",
              "      <th>GSM119619</th>\n",
              "      <td>0.667137</td>\n",
              "      <td>0.640986</td>\n",
              "      <td>0.605827</td>\n",
              "      <td>0.516539</td>\n",
              "      <td>1.000000</td>\n",
              "      <td>0.819349</td>\n",
              "      <td>0.626279</td>\n",
              "      <td>0.073823</td>\n",
              "      <td>0.015521</td>\n",
              "      <td>0.586020</td>\n",
              "      <td>0.211934</td>\n",
              "      <td>0.468674</td>\n",
              "      <td>0.920275</td>\n",
              "      <td>0.703257</td>\n",
              "      <td>0.633906</td>\n",
              "      <td>0.218873</td>\n",
              "      <td>0.104831</td>\n",
              "      <td>0.767624</td>\n",
              "      <td>0.422901</td>\n",
              "      <td>0.238890</td>\n",
              "      <td>0.024286</td>\n",
              "      <td>0.353981</td>\n",
              "      <td>0.095766</td>\n",
              "      <td>0.948272</td>\n",
              "      <td>0.859378</td>\n",
              "      <td>0.241181</td>\n",
              "      <td>0.676464</td>\n",
              "      <td>0.650508</td>\n",
              "      <td>0.532474</td>\n",
              "      <td>0.075232</td>\n",
              "      <td>0.079732</td>\n",
              "      <td>0.657669</td>\n",
              "      <td>0.697415</td>\n",
              "      <td>0.781369</td>\n",
              "      <td>0.570699</td>\n",
              "      <td>0.661658</td>\n",
              "      <td>0.611041</td>\n",
              "      <td>0.110006</td>\n",
              "      <td>0.466201</td>\n",
              "      <td>0.962320</td>\n",
              "      <td>...</td>\n",
              "      <td>1.000000</td>\n",
              "      <td>1.000000</td>\n",
              "      <td>0.412977</td>\n",
              "      <td>0.105101</td>\n",
              "      <td>0.161559</td>\n",
              "      <td>0.148805</td>\n",
              "      <td>0.182963</td>\n",
              "      <td>0.318272</td>\n",
              "      <td>0.296389</td>\n",
              "      <td>0.131279</td>\n",
              "      <td>0.165349</td>\n",
              "      <td>0.165831</td>\n",
              "      <td>0.378272</td>\n",
              "      <td>0.184677</td>\n",
              "      <td>0.247218</td>\n",
              "      <td>0.153709</td>\n",
              "      <td>0.161970</td>\n",
              "      <td>0.125157</td>\n",
              "      <td>0.203119</td>\n",
              "      <td>0.196039</td>\n",
              "      <td>0.178358</td>\n",
              "      <td>0.235928</td>\n",
              "      <td>0.208385</td>\n",
              "      <td>0.196298</td>\n",
              "      <td>0.139616</td>\n",
              "      <td>0.112408</td>\n",
              "      <td>0.111716</td>\n",
              "      <td>0.077801</td>\n",
              "      <td>0.063956</td>\n",
              "      <td>0.066094</td>\n",
              "      <td>0.067692</td>\n",
              "      <td>0.075279</td>\n",
              "      <td>0.073781</td>\n",
              "      <td>0.209401</td>\n",
              "      <td>0.177373</td>\n",
              "      <td>0.182081</td>\n",
              "      <td>0.138562</td>\n",
              "      <td>0.193868</td>\n",
              "      <td>0.017447</td>\n",
              "      <td>Disease State: normal</td>\n",
              "    </tr>\n",
              "  </tbody>\n",
              "</table>\n",
              "<p>5 rows × 54676 columns</p>\n",
              "</div>"
            ],
            "text/plain": [
              "           1007_s_at   1053_at  ...  AFFX-TrpnX-M_at                  class\n",
              "GSM119615   0.192066  0.035711  ...         0.062306  Disease State: normal\n",
              "GSM119616   0.227039  0.079360  ...         0.023065  Disease State: normal\n",
              "GSM119617   0.509945  0.051228  ...         0.612593  Disease State: normal\n",
              "GSM119618   0.493082  0.058702  ...         0.086172  Disease State: normal\n",
              "GSM119619   0.667137  0.640986  ...         0.017447  Disease State: normal\n",
              "\n",
              "[5 rows x 54676 columns]"
            ]
          },
          "metadata": {
            "tags": []
          },
          "execution_count": 4
        }
      ]
    },
    {
      "cell_type": "markdown",
      "metadata": {
        "id": "Cs4rWOEpChjy",
        "colab_type": "text"
      },
      "source": [
        "**PCA type one**"
      ]
    },
    {
      "cell_type": "code",
      "metadata": {
        "id": "M8wleItTMF7c",
        "colab_type": "code",
        "colab": {}
      },
      "source": [
        "# split data table into data X and class labels y\n",
        "\n",
        "X = df.iloc[:,0:160].values #54675\n",
        "y = df.iloc[:,160].values"
      ],
      "execution_count": 0,
      "outputs": []
    },
    {
      "cell_type": "code",
      "metadata": {
        "id": "oCSbLRCmQYyd",
        "colab_type": "code",
        "colab": {}
      },
      "source": [
        "import numpy as np\n",
        "\n",
        "#mean_vec = np.mean(X, axis=0)\n",
        "#cov_mat = (X - mean_vec).T.dot((X - mean_vec)) / (X.shape[0]-1) #Covariance matrix\n",
        "\n",
        "cov_mat = np.cov(X.T)\n",
        "#print('Covariance matrix: \\n%s' %cov_mat)\n",
        "\n",
        "eig_vals, eig_vecs = np.linalg.eig(cov_mat)\n",
        "#print('Eigenvectors \\n%s' %eig_vecs)\n",
        "#print('\\nEigenvalues \\n%s' %eig_vals)\n"
      ],
      "execution_count": 0,
      "outputs": []
    },
    {
      "cell_type": "code",
      "metadata": {
        "id": "cet_NmoubLgr",
        "colab_type": "code",
        "outputId": "9366b31f-6eaf-453a-f555-342a9b6290f1",
        "colab": {
          "base_uri": "https://localhost:8080/",
          "height": 50
        }
      },
      "source": [
        "for ev in eig_vecs:\n",
        "    np.testing.assert_array_almost_equal(1.0, np.linalg.norm(ev))\n",
        "print('Everything ok!')\n",
        "\n",
        "# Make a list of (eigenvalue, eigenvector) tuples\n",
        "eig_pairs = [(np.abs(eig_vals[i]), eig_vecs[:,i], df.columns[i]) for i in range(len(eig_vals))]\n",
        "\n",
        "# Sort the (eigenvalue, eigenvector) tuples from high to low\n",
        "eig_pairs.sort()\n",
        "eig_pairs.reverse()\n",
        "\n",
        "# Visually confirm that the list is correctly sorted by decreasing eigenvalues\n",
        "print('Eigenvalues in descending order:')\n",
        "#for i in eig_pairs:\n",
        "    #print(i[0])"
      ],
      "execution_count": 10,
      "outputs": [
        {
          "output_type": "stream",
          "text": [
            "Everything ok!\n",
            "Eigenvalues in descending order:\n"
          ],
          "name": "stdout"
        }
      ]
    },
    {
      "cell_type": "code",
      "metadata": {
        "id": "ZOdZilO1eQA-",
        "colab_type": "code",
        "outputId": "9eb919a1-c19f-4f76-ed90-ee701439c56a",
        "colab": {
          "base_uri": "https://localhost:8080/",
          "height": 101
        }
      },
      "source": [
        "matrix_w = np.hstack((eig_pairs[2][1].reshape(160,1), \n",
        "                      eig_pairs[3][1].reshape(160,1)))\n",
        "\n",
        "#print('Matrix W:\\n', matrix_w)\n",
        "Y = X.dot(matrix_w)\n",
        "#print(Y.shape)\n",
        "\n",
        "print(eig_pairs[0][2])\n",
        "print(eig_pairs[1][2])\n",
        "print(eig_pairs[2][2])\n",
        "print(eig_pairs[3][2])\n",
        "print(eig_pairs[4][2])"
      ],
      "execution_count": 40,
      "outputs": [
        {
          "output_type": "stream",
          "text": [
            "1007_s_at\n",
            "1053_at\n",
            "117_at\n",
            "121_at\n",
            "1255_g_at\n"
          ],
          "name": "stdout"
        }
      ]
    },
    {
      "cell_type": "code",
      "metadata": {
        "id": "s9ugPuWCkcun",
        "colab_type": "code",
        "outputId": "a8d8562a-7542-4cc2-d87f-aec364df1219",
        "colab": {
          "base_uri": "https://localhost:8080/",
          "height": 386
        }
      },
      "source": [
        "import seaborn as sns\n",
        "import matplotlib.pyplot as plt\n",
        "\n",
        "#df_for_clust = pd.DataFrame(Y)\n",
        "df_for_clust = pd.DataFrame(Y, columns=['x','y'])\n",
        "df_for_clust['class'] = df['class'].values\n",
        "#df_for_clust\n",
        "\n",
        "#plot data with seaborn\n",
        "sns.lmplot(x=\"x\", y=\"y\", hue=\"class\", data=df_for_clust)\n",
        "#facet = sns.lmplot(data=df_for_clust, x='x', y='y', hue='class', fit_reg=False, legend=True, legend_out=True)"
      ],
      "execution_count": 41,
      "outputs": [
        {
          "output_type": "execute_result",
          "data": {
            "text/plain": [
              "<seaborn.axisgrid.FacetGrid at 0x7fd54664f400>"
            ]
          },
          "metadata": {
            "tags": []
          },
          "execution_count": 41
        },
        {
          "output_type": "display_data",
          "data": {
            "image/png": "[encoded data removed]",
            "text/plain": [
              "<Figure size 572.125x360 with 1 Axes>"
            ]
          },
          "metadata": {
            "tags": []
          }
        }
      ]
    },
    {
      "cell_type": "markdown",
      "metadata": {
        "id": "OP44qk3MEK_Y",
        "colab_type": "text"
      },
      "source": [
        "**PCA type two**"
      ]
    },
    {
      "cell_type": "code",
      "metadata": {
        "id": "fDrJeY7PAkTd",
        "colab_type": "code",
        "colab": {}
      },
      "source": [
        "df['class'].replace('Disease State: normal', 0,inplace=True)\n",
        "df['class'].replace('Disease State: Alzheimer\\'s Disease' ,1 ,inplace=True)\n"
      ],
      "execution_count": 0,
      "outputs": []
    },
    {
      "cell_type": "code",
      "metadata": {
        "id": "aiWxounpGjYn",
        "colab_type": "code",
        "outputId": "d239e5f6-ec97-4361-a870-706080cfa05d",
        "colab": {
          "base_uri": "https://localhost:8080/",
          "height": 195
        }
      },
      "source": [
        "from sklearn.decomposition import PCA\n",
        "pca_AD = PCA(n_components=2)\n",
        "principalComponents_AD = pca_AD.fit_transform(df.iloc[:,0:50000].values)\n",
        "\n",
        "principal_AD_Df = pd.DataFrame(data = principalComponents_AD\n",
        "             , columns = ['principal component 1', 'principal component 2'])\n",
        "\n",
        "principal_AD_Df.tail()"
      ],
      "execution_count": 0,
      "outputs": [
        {
          "output_type": "execute_result",
          "data": {
            "text/html": [
              "<div>\n",
              "<style scoped>\n",
              "    .dataframe tbody tr th:only-of-type {\n",
              "        vertical-align: middle;\n",
              "    }\n",
              "\n",
              "    .dataframe tbody tr th {\n",
              "        vertical-align: top;\n",
              "    }\n",
              "\n",
              "    .dataframe thead th {\n",
              "        text-align: right;\n",
              "    }\n",
              "</style>\n",
              "<table border=\"1\" class=\"dataframe\">\n",
              "  <thead>\n",
              "    <tr style=\"text-align: right;\">\n",
              "      <th></th>\n",
              "      <th>principal component 1</th>\n",
              "      <th>principal component 2</th>\n",
              "    </tr>\n",
              "  </thead>\n",
              "  <tbody>\n",
              "    <tr>\n",
              "      <th>156</th>\n",
              "      <td>-10.898853</td>\n",
              "      <td>-11.643792</td>\n",
              "    </tr>\n",
              "    <tr>\n",
              "      <th>157</th>\n",
              "      <td>-7.499943</td>\n",
              "      <td>-3.531472</td>\n",
              "    </tr>\n",
              "    <tr>\n",
              "      <th>158</th>\n",
              "      <td>-12.211972</td>\n",
              "      <td>-12.810672</td>\n",
              "    </tr>\n",
              "    <tr>\n",
              "      <th>159</th>\n",
              "      <td>2.273385</td>\n",
              "      <td>11.259744</td>\n",
              "    </tr>\n",
              "    <tr>\n",
              "      <th>160</th>\n",
              "      <td>4.574875</td>\n",
              "      <td>11.606509</td>\n",
              "    </tr>\n",
              "  </tbody>\n",
              "</table>\n",
              "</div>"
            ],
            "text/plain": [
              "     principal component 1  principal component 2\n",
              "156             -10.898853             -11.643792\n",
              "157              -7.499943              -3.531472\n",
              "158             -12.211972             -12.810672\n",
              "159               2.273385              11.259744\n",
              "160               4.574875              11.606509"
            ]
          },
          "metadata": {
            "tags": []
          },
          "execution_count": 10
        }
      ]
    },
    {
      "cell_type": "code",
      "metadata": {
        "id": "mWKE19UfH2GB",
        "colab_type": "code",
        "outputId": "972217b6-1222-4b9c-90e3-14d7bfad1266",
        "colab": {
          "base_uri": "https://localhost:8080/",
          "height": 673
        }
      },
      "source": [
        "plt.figure()\n",
        "plt.figure(figsize=(10,10))\n",
        "plt.xticks(fontsize=12)\n",
        "plt.yticks(fontsize=14)\n",
        "plt.xlabel('Principal Component - 1',fontsize=20)\n",
        "plt.ylabel('Principal Component - 2',fontsize=20)\n",
        "plt.title(\"Principal Component Analysis of AD Dataset\",fontsize=20)\n",
        "targets = ['normal', 'AD']\n",
        "colors = ['r', 'g']\n",
        "for target, color in zip(targets,colors):\n",
        "    indicesToKeep = df['class'].values == target\n",
        "    plt.scatter(principal_AD_Df.loc[indicesToKeep, 'principal component 1']\n",
        "               , principal_AD_Df.loc[indicesToKeep, 'principal component 2'], c = color, s = 50)\n",
        "\n",
        "plt.legend(targets,prop={'size': 15})"
      ],
      "execution_count": 0,
      "outputs": [
        {
          "output_type": "execute_result",
          "data": {
            "text/plain": [
              "<matplotlib.legend.Legend at 0x7f00e616f438>"
            ]
          },
          "metadata": {
            "tags": []
          },
          "execution_count": 11
        },
        {
          "output_type": "display_data",
          "data": {
            "text/plain": [
              "<Figure size 432x288 with 0 Axes>"
            ]
          },
          "metadata": {
            "tags": []
          }
        },
        {
          "output_type": "display_data",
          "data": {
            "image/png": "[encoded data removed]",
            "text/plain": [
              "<Figure size 720x720 with 1 Axes>"
            ]
          },
          "metadata": {
            "tags": []
          }
        }
      ]
    },
    {
      "cell_type": "code",
      "metadata": {
        "id": "FJeMleGJkqqe",
        "colab_type": "code",
        "outputId": "68fbe360-7bc7-4dfd-bc35-12dda91f8191",
        "colab": {
          "base_uri": "https://localhost:8080/",
          "height": 282
        }
      },
      "source": [
        "# libraries\n",
        "import pandas as pd\n",
        "import numpy as np\n",
        "from sklearn.decomposition import PCA\n",
        "\n",
        "from mpl_toolkits import mplot3d\n",
        "\n",
        "# Get the iris dataset\n",
        "import seaborn as sns\n",
        "sns.set_style(\"white\")\n",
        "df1 = sns.load_dataset('iris')\n",
        "\n",
        "my_dpi=96\n",
        "plt.figure(figsize=(480/my_dpi, 480/my_dpi), dpi=my_dpi)\n",
        " \n",
        "# Keep the 'specie' column appart + make it numeric for coloring\n",
        "df['species']=pd.Categorical(df['class'])\n",
        "my_color=df['species'].cat.codes\n",
        "\n",
        "df = df.drop('species', 1)\n",
        "\n",
        "df = df.iloc[:,0:54676].values\n",
        "\n",
        "# Run The PCA\n",
        "pca = PCA(n_components=3)\n",
        "pca.fit(df)\n",
        " \n",
        "# Store results of PCA in a data frame\n",
        "result=pd.DataFrame(pca.transform(df), columns=['PCA%i' % i for i in range(3)])\n",
        " \n",
        "# Plot initialisation\n",
        "fig = plt.figure()\n",
        "ax = fig.add_subplot(111, projection='3d')\n",
        "ax.scatter(result['PCA0'], result['PCA1'], result['PCA2'], c=my_color, cmap=\"Set2_r\", s=60)\n",
        " \n",
        "# make simple, bare axis lines through space:\n",
        "xAxisLine = ((min(result['PCA0']), max(result['PCA0'])), (0, 0), (0,0))\n",
        "ax.plot(xAxisLine[0], xAxisLine[1], xAxisLine[2], 'r')\n",
        "yAxisLine = ((0, 0), (min(result['PCA1']), max(result['PCA1'])), (0,0))\n",
        "ax.plot(yAxisLine[0], yAxisLine[1], yAxisLine[2], 'r')\n",
        "zAxisLine = ((0, 0), (0,0), (min(result['PCA2']), max(result['PCA2'])))\n",
        "ax.plot(zAxisLine[0], zAxisLine[1], zAxisLine[2], 'r')\n",
        " \n",
        "# label the axes\n",
        "ax.set_xlabel(\"PC1\")\n",
        "ax.set_ylabel(\"PC2\")\n",
        "ax.set_zlabel(\"PC3\")\n",
        "ax.set_title(\"PCA on the AD data set\")\n",
        "#plt.show()\n"
      ],
      "execution_count": 0,
      "outputs": [
        {
          "output_type": "execute_result",
          "data": {
            "text/plain": [
              "Text(0.5, 0.92, 'PCA on the AD data set')"
            ]
          },
          "metadata": {
            "tags": []
          },
          "execution_count": 16
        },
        {
          "output_type": "display_data",
          "data": {
            "text/plain": [
              "<Figure size 480x480 with 0 Axes>"
            ]
          },
          "metadata": {
            "tags": []
          }
        },
        {
          "output_type": "display_data",
          "data": {
            "image/png": "[encoded data removed]",
            "text/plain": [
              "<Figure size 432x288 with 1 Axes>"
            ]
          },
          "metadata": {
            "tags": []
          }
        }
      ]
    }
  ]
}